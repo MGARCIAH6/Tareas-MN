{
  "nbformat": 4,
  "nbformat_minor": 0,
  "metadata": {
    "colab": {
      "provenance": [],
      "authorship_tag": "ABX9TyM3UVyzLIKOq3iL3tLFxp/y",
      "include_colab_link": true
    },
    "kernelspec": {
      "name": "python3",
      "display_name": "Python 3"
    },
    "language_info": {
      "name": "python"
    }
  },
  "cells": [
    {
      "cell_type": "markdown",
      "metadata": {
        "id": "view-in-github",
        "colab_type": "text"
      },
      "source": [
        "<a href=\"https://colab.research.google.com/github/MGARCIAH6/Tareas-MN/blob/main/Diferencias_divididas_N_.ipynb\" target=\"_parent\"><img src=\"https://colab.research.google.com/assets/colab-badge.svg\" alt=\"Open In Colab\"/></a>"
      ]
    },
    {
      "cell_type": "markdown",
      "source": [
        "Marlene García Hernández"
      ],
      "metadata": {
        "id": "8ncpA-YruzYb"
      }
    },
    {
      "cell_type": "code",
      "execution_count": 21,
      "metadata": {
        "id": "RBhIhjMPmWC-"
      },
      "outputs": [],
      "source": [
        "from tabulate import tabulate"
      ]
    },
    {
      "cell_type": "code",
      "source": [
        "### puntos del ejercicio #####\n",
        "\n",
        "x0=1\n",
        "x1=1.3\n",
        "x2=1.6\n",
        "x3=1.9\n",
        "x4=2.2\n",
        "\n",
        "##### valor de f(x) ######\n",
        "\n",
        "fx0=0.7651977\n",
        "fx1=0.6200860\n",
        "fx2=0.4554022\n",
        "fx3=0.2818186\n",
        "fx4=0.1103623\n",
        "\n",
        "                             ### primeras diferencias ####\n",
        "x10=(fx1-fx0)/(x1-x0)\n",
        "x11=(fx2-fx1)/(x2-x1)\n",
        "x12=(fx3-fx2)/(x3-x2)\n",
        "x13=(fx4-fx3)/(x4-x3)\n",
        "\n",
        "                     ####  segundas diferencias divididas ####\n",
        "\n",
        "x20=(x11-x10)/(x2-x0)\n",
        "x21=(x12-x11)/(x3-x1)\n",
        "x22=(x13-x12)/(x4-x2)\n",
        "                       ####  3eras diferencias divididas ####\n",
        "\n",
        "x30=(x21-x20)/(x3-x0)\n",
        "x31=(x22-x21)/(x4-x1)\n",
        "                      ##### 4tas diferencias divididas ######\n",
        "x40=(x31-x30)/(x4-x0)\n",
        "\n",
        "datostabla=[\n",
        "   ['0',x0,fx0],\n",
        "   ['1',x1,fx1,(round(x10,9))],\n",
        "   ['2',x2,fx2,(round(x11,9)),(round(x20,9))],\n",
        "   ['3',x3,fx3,(round(x12,9)),round(x21,9),(round(x30,9))],\n",
        "   ['4',x4,fx4,(round(x12,9)),(round(x22,9)),(round(x31,9)),(round(x40,9))]\n",
        "]\n",
        "\n",
        "                                                      ### Encabezado de tabla #####\n",
        "enca=[\n",
        "    'i','x','f[x_1]','f[x_0,x_1] ','f[x_0,x_1,x_2] ','f[x_0,x_1,x_2,x_3]','f[x0,x1,x2,x3,x4]'\n",
        "\n",
        "]\n",
        "\n",
        "\n",
        "\n",
        "print(tabulate(datostabla,headers=enca,tablefmt=\"grid\"))"
      ],
      "metadata": {
        "colab": {
          "base_uri": "https://localhost:8080/"
        },
        "id": "_rwflvx0maJf",
        "outputId": "dbc87068-a3c1-4c44-c35f-f861caae18ea"
      },
      "execution_count": 40,
      "outputs": [
        {
          "output_type": "stream",
          "name": "stdout",
          "text": [
            "+-----+-----+----------+---------------+-------------------+----------------------+---------------------+\n",
            "|   i |   x |   f[x_1] |   f[x_0,x_1]  |   f[x_0,x_1,x_2]  |   f[x_0,x_1,x_2,x_3] |   f[x0,x1,x2,x3,x4] |\n",
            "+=====+=====+==========+===============+===================+======================+=====================+\n",
            "|   0 | 1   | 0.765198 |               |                   |                      |                     |\n",
            "+-----+-----+----------+---------------+-------------------+----------------------+---------------------+\n",
            "|   1 | 1.3 | 0.620086 |     -0.483706 |                   |                      |                     |\n",
            "+-----+-----+----------+---------------+-------------------+----------------------+---------------------+\n",
            "|   2 | 1.6 | 0.455402 |     -0.548946 |        -0.108734  |                      |                     |\n",
            "+-----+-----+----------+---------------+-------------------+----------------------+---------------------+\n",
            "|   3 | 1.9 | 0.281819 |     -0.578612 |        -0.0494433 |            0.0658784 |                     |\n",
            "+-----+-----+----------+---------------+-------------------+----------------------+---------------------+\n",
            "|   4 | 2.2 | 0.110362 |     -0.578612 |         0.0118183 |            0.0680685 |           0.0018251 |\n",
            "+-----+-----+----------+---------------+-------------------+----------------------+---------------------+\n"
          ]
        }
      ]
    },
    {
      "cell_type": "markdown",
      "source": [],
      "metadata": {
        "id": "mKIjwBUhuv-Y"
      }
    }
  ]
}