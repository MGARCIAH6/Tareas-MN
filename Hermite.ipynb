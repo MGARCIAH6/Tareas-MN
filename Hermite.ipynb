{
  "nbformat": 4,
  "nbformat_minor": 0,
  "metadata": {
    "colab": {
      "provenance": [],
      "authorship_tag": "ABX9TyM3lv2MUHKLXleZYvyBhD2z",
      "include_colab_link": true
    },
    "kernelspec": {
      "name": "python3",
      "display_name": "Python 3"
    },
    "language_info": {
      "name": "python"
    }
  },
  "cells": [
    {
      "cell_type": "markdown",
      "metadata": {
        "id": "view-in-github",
        "colab_type": "text"
      },
      "source": [
        "<a href=\"https://colab.research.google.com/github/MGARCIAH6/Tareas-MN/blob/main/Hermite.ipynb\" target=\"_parent\"><img src=\"https://colab.research.google.com/assets/colab-badge.svg\" alt=\"Open In Colab\"/></a>"
      ]
    },
    {
      "cell_type": "markdown",
      "source": [
        "Marlene García Hernández"
      ],
      "metadata": {
        "id": "EY4r8ItzhtXR"
      }
    },
    {
      "cell_type": "code",
      "execution_count": null,
      "metadata": {
        "id": "Akn_rrcb8Qyr"
      },
      "outputs": [],
      "source": [
        "from tabulate import tabulate"
      ]
    },
    {
      "cell_type": "code",
      "source": [
        "## valores de x\n",
        "x0=1.3\n",
        "x1=1.6\n",
        "x2=1.9\n",
        "# valores de la funcion\n",
        "fx0=0.6200860\n",
        "fx1=0.4554022\n",
        "fx2=0.2818186\n",
        "\n",
        "#### valores de las derivadas\n",
        "\n",
        "df0= -0.5220232\n",
        "df1= -0.5698959\n",
        "df2= -0.5811571\n",
        "\n",
        "#### primeras diferencias\n",
        "\n",
        "x01=(fx1-fx0)/(x1-x0)\n",
        "x02=(fx2-fx1)/(x2-x1)\n",
        "\n",
        "# segundas diferencias divididas\n",
        "\n",
        "x20=(x01-df0)/(x1-x0)\n",
        "x21=(df1-x01)/(x2-x1)\n",
        "x22=(x02-df1)/(x2-x1)\n",
        "x23=(df2-x02)/(x2-x1)\n",
        "\n",
        "# terceras diferencias\n",
        "x30=(x21-x20)/(x1-x0)\n",
        "x31=(x22-x21)/(x2-x0)\n",
        "x32=(x23-x22)/(x2-x1)\n",
        "# cuartas\n",
        "x40=(x31-x30)/(x2-x0)\n",
        "x41=(x32-x31)/(x2-x0)\n",
        "#quintas\n",
        "\n",
        "x5=(x41-x40)/(x2-x0)\n",
        "\n",
        "datostabla=[\n",
        "   ['0',x0,fx0],\n",
        "   ['1',x0,fx0,df0,x20],\n",
        "   ['2',x1,fx1,x01,x21,x30],\n",
        "   ['3',x1,fx1,df1,x22,x31,x40],\n",
        "   ['4',x2,fx2,x02,x23,x32,x41,x5],\n",
        "   ['5',x2,fx2,df2]\n",
        "\n",
        "]\n",
        "\n",
        "                                                      ### Encabezado de tabla #####\n",
        "enca=[\n",
        "    'i','x','f(x_1)','f´(x) ','2das Diferencias ','3ras diferencias','4tas diferencias','5tas diferencias'\n",
        "\n",
        "]\n",
        "\n",
        "print(tabulate(datostabla,headers=enca,tablefmt=\"grid\"))"
      ],
      "metadata": {
        "colab": {
          "base_uri": "https://localhost:8080/"
        },
        "id": "wZ_16dMV-PNI",
        "outputId": "e401545b-106e-4c1e-df80-f75f7062f2a5"
      },
      "execution_count": null,
      "outputs": [
        {
          "output_type": "stream",
          "name": "stdout",
          "text": [
            "+-----+-----+----------+-----------+---------------------+--------------------+--------------------+--------------------+\n",
            "|   i |   x |   f(x_1) |    f´(x)  |   2das Diferencias  |   3ras diferencias |   4tas diferencias |   5tas diferencias |\n",
            "+=====+=====+==========+===========+=====================+====================+====================+====================+\n",
            "|   0 | 1.3 | 0.620086 |           |                     |                    |                    |                    |\n",
            "+-----+-----+----------+-----------+---------------------+--------------------+--------------------+--------------------+\n",
            "|   1 | 1.3 | 0.620086 | -0.522023 |         -0.0897427  |                    |                    |                    |\n",
            "+-----+-----+----------+-----------+---------------------+--------------------+--------------------+--------------------+\n",
            "|   2 | 1.6 | 0.455402 | -0.548946 |         -0.069833   |          0.0663656 |                    |                    |\n",
            "+-----+-----+----------+-----------+---------------------+--------------------+--------------------+--------------------+\n",
            "|   3 | 1.6 | 0.455402 | -0.569896 |         -0.0290537  |          0.0679656 |         0.00266667 |                    |\n",
            "+-----+-----+----------+-----------+---------------------+--------------------+--------------------+--------------------+\n",
            "|   4 | 1.9 | 0.281819 | -0.578612 |         -0.00848367 |          0.0685667 |         0.00100185 |        -0.00277469 |\n",
            "+-----+-----+----------+-----------+---------------------+--------------------+--------------------+--------------------+\n",
            "|   5 | 1.9 | 0.281819 | -0.581157 |                     |                    |                    |                    |\n",
            "+-----+-----+----------+-----------+---------------------+--------------------+--------------------+--------------------+\n"
          ]
        }
      ]
    }
  ]
}