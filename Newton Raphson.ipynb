{
  "nbformat": 4,
  "nbformat_minor": 0,
  "metadata": {
    "colab": {
      "provenance": [],
      "authorship_tag": "ABX9TyN6R25VgA8aJUB5vhaIFYrP",
      "include_colab_link": true
    },
    "kernelspec": {
      "name": "python3",
      "display_name": "Python 3"
    },
    "language_info": {
      "name": "python"
    }
  },
  "cells": [
    {
      "cell_type": "markdown",
      "metadata": {
        "id": "view-in-github",
        "colab_type": "text"
      },
      "source": [
        "<a href=\"https://colab.research.google.com/github/MGARCIAH6/Tareas-MN/blob/main/Newton%20Raphson.ipynb\" target=\"_parent\"><img src=\"https://colab.research.google.com/assets/colab-badge.svg\" alt=\"Open In Colab\"/></a>"
      ]
    },
    {
      "cell_type": "code",
      "source": [
        "from math import *"
      ],
      "metadata": {
        "id": "oB2B5cxK2GZu"
      },
      "execution_count": 9,
      "outputs": []
    },
    {
      "cell_type": "code",
      "source": [
        "###función a la que quiero aplicar metod de Newton \n",
        "def f(x):\n",
        "  ecu =cos(x)-x**3;\n",
        "  return ecu\n",
        "\n",
        "def dif(x):\n",
        "  return -sin (x)-3*(x)**2\n",
        "\n",
        "def NewtonRaphson(x0,tol,n):\n",
        "  for k  in  range(n+1):\n",
        "    x1=x0-f(x0)/dif(x0)\n",
        "    if (abs(x1-x0)<tol):\n",
        "      print('x',k+1,'=',x1,end='')\n",
        "      print('es una buena aproximación de la raíz')\n",
        "      return\n",
        "\n",
        "    x0=x1\n",
        "    print('x',k+1,'=',x1)\n",
        "\n",
        "NewtonRaphson(pi,0.00000001,10)  \n",
        "\n"
      ],
      "metadata": {
        "id": "wPpPNk54v7J7"
      },
      "execution_count": null,
      "outputs": []
    }
  ]
}