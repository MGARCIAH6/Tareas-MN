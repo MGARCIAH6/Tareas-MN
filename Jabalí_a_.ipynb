{
  "nbformat": 4,
  "nbformat_minor": 0,
  "metadata": {
    "colab": {
      "provenance": [],
      "authorship_tag": "ABX9TyPebW9w2hnJxam0lZqaMsQ0",
      "include_colab_link": true
    },
    "kernelspec": {
      "name": "python3",
      "display_name": "Python 3"
    },
    "language_info": {
      "name": "python"
    }
  },
  "cells": [
    {
      "cell_type": "markdown",
      "metadata": {
        "id": "view-in-github",
        "colab_type": "text"
      },
      "source": [
        "<a href=\"https://colab.research.google.com/github/MGARCIAH6/Tareas-MN/blob/main/Jabal%C3%AD_a_.ipynb\" target=\"_parent\"><img src=\"https://colab.research.google.com/assets/colab-badge.svg\" alt=\"Open In Colab\"/></a>"
      ]
    },
    {
      "cell_type": "markdown",
      "source": [
        "García Hernández Marlene."
      ],
      "metadata": {
        "id": "TsjrQo5ct_H-"
      }
    },
    {
      "cell_type": "code",
      "execution_count": 43,
      "metadata": {
        "id": "uoB68cSTt-UQ"
      },
      "outputs": [],
      "source": [
        "import math\n",
        "import numpy as np\n",
        "import matplotlib.pyplot as plt\n",
        "from scipy import integrate\n",
        "from traitlets.traitlets import Long"
      ]
    },
    {
      "cell_type": "code",
      "source": [
        "# tomando en cuenta que el valor de t= 1hrs #\n",
        "\n",
        "k= math.log((x-a)/(x0-a))\n",
        "\n",
        " # la ecuacion pero sin tomar la hr que se nos da en el ejercicio  #\n",
        "t=math.log(1/(x1-a))*(1/k)\n"
      ],
      "metadata": {
        "id": "oR-Y4Ef_ujAh"
      },
      "execution_count": 44,
      "outputs": []
    },
    {
      "cell_type": "code",
      "source": [
        "   # valores asignados por el ejercicio a #\n",
        "a=21\n",
        "x=31\n",
        "x0=29\n",
        "x1=37"
      ],
      "metadata": {
        "id": "EDLO8h8uwI_4"
      },
      "execution_count": 45,
      "outputs": []
    },
    {
      "cell_type": "code",
      "source": [
        "\n",
        "print(\"Valor de K= \",(round(k,4)))\n",
        "print(\"Momento del disparo= \",t, \"hrs\")"
      ],
      "metadata": {
        "colab": {
          "base_uri": "https://localhost:8080/"
        },
        "id": "Q9MYB0zTxB-0",
        "outputId": "dccbb373-3f83-4c35-f67c-f28aa7fe2971"
      },
      "execution_count": null,
      "outputs": [
        {
          "output_type": "stream",
          "name": "stdout",
          "text": [
            "Valor de K=  0.2231\n",
            "Momento del disparo=  -12.425134878021558 hrs\n"
          ]
        }
      ]
    }
  ]
}