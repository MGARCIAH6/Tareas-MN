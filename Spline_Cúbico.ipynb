{
  "nbformat": 4,
  "nbformat_minor": 0,
  "metadata": {
    "colab": {
      "provenance": [],
      "authorship_tag": "ABX9TyPvXGg0ZfVlIoYAeY4LYXhX",
      "include_colab_link": true
    },
    "kernelspec": {
      "name": "python3",
      "display_name": "Python 3"
    },
    "language_info": {
      "name": "python"
    }
  },
  "cells": [
    {
      "cell_type": "markdown",
      "metadata": {
        "id": "view-in-github",
        "colab_type": "text"
      },
      "source": [
        "<a href=\"https://colab.research.google.com/github/MGARCIAH6/Tareas-MN/blob/main/Spline_C%C3%BAbico.ipynb\" target=\"_parent\"><img src=\"https://colab.research.google.com/assets/colab-badge.svg\" alt=\"Open In Colab\"/></a>"
      ]
    },
    {
      "cell_type": "markdown",
      "source": [
        "Marlene García Hernández"
      ],
      "metadata": {
        "id": "7ZtoKMB8tIgP"
      }
    },
    {
      "cell_type": "code",
      "execution_count": 3,
      "metadata": {
        "id": "FMLufluWgfbK"
      },
      "outputs": [],
      "source": [
        "import numpy as np\n",
        "import sympy as sym\n",
        "import matplotlib.pyplot as plt"
      ]
    },
    {
      "cell_type": "code",
      "source": [
        "def traza3natural(xi,yi):\n",
        "    n = len(xi)\n",
        "\n",
        "                #H\n",
        "    h = np.zeros(n-1, dtype = float)\n",
        "    for j in range(0,n-1,1):\n",
        "        h[j] = xi[j+1] - xi[j]\n",
        "\n",
        "                     # ecuaciones\n",
        "    A = np.zeros(shape=(n-2,n-2), dtype = float)\n",
        "    B = np.zeros(n-2, dtype = float)\n",
        "    S = np.zeros(n, dtype = float)\n",
        "\n",
        "    A[0,0] = 2*(h[0]+h[1])\n",
        "    A[0,1] = h[1]\n",
        "    B[0] = 6*((yi[2]-yi[1])/h[1] - (yi[1]-yi[0])/h[0])\n",
        "\n",
        "    for i in range(1,n-3,1):\n",
        "        A[i,i-1] = h[i]\n",
        "        A[i,i] = 2*(h[i]+h[i+1])\n",
        "        A[i,i+1] = h[i+1]\n",
        "        factor21 = (yi[i+2]-yi[i+1])/h[i+1]\n",
        "        factor10 = (yi[i+1]-yi[i])/h[i]\n",
        "        B[i] = 6*(factor21 - factor10)\n",
        "\n",
        "    A[n-3,n-4] = h[n-3]\n",
        "    A[n-3,n-3] = 2*(h[n-3]+h[n-2])\n",
        "    factor12 = (yi[n-1]-yi[n-2])/h[n-2]\n",
        "    factor23 = (yi[n-2]-yi[n-3])/h[n-3]\n",
        "    B[n-3] = 6*(factor12 - factor23)\n",
        "\n",
        "                    # simplificacion de ecu\n",
        "    r = np.linalg.solve(A,B)\n",
        "    for j in range(1,n-1,1):\n",
        "        S[j] = r[j-1]\n",
        "    S[0] = 0\n",
        "    S[n-1] = 0\n",
        "\n",
        "                         # coeficientes\n",
        "    a = np.zeros(n-1, dtype = float)\n",
        "    b = np.zeros(n-1, dtype = float)\n",
        "    c = np.zeros(n-1, dtype = float)\n",
        "    d = np.zeros(n-1, dtype = float)\n",
        "    for j in range(0,n-1,1):\n",
        "        a[j] = (S[j+1]-S[j])/(6*h[j])\n",
        "        b[j] = S[j]/2\n",
        "        factor10 = (yi[j+1]-yi[j])/h[j]\n",
        "        c[j] = factor10 - (2*h[j]*S[j]+h[j]*S[j+1])/6\n",
        "        d[j] = yi[j]\n",
        "\n",
        "\n",
        "    x = sym.Symbol('x')\n",
        "    px_tabla = []\n",
        "    for j in range(0,n-1,1):\n",
        "\n",
        "        pxtramo = a[j]*(x-xi[j])**3 + b[j]*(x-xi[j])**2\n",
        "        pxtramo = pxtramo + c[j]*(x-xi[j])+ d[j]\n",
        "\n",
        "        pxtramo = pxtramo.expand()\n",
        "        px_tabla.append(pxtramo)\n",
        "\n",
        "    return(px_tabla)\n",
        "\n",
        "\n",
        "            # datos\n",
        "xi = np.array([0.1 , 0.2, 0.3, 0.4])\n",
        "fi = np.array([1.45, 1.8, 1.7, 2.0])\n",
        "muestras = 10\n",
        "\n",
        "\n",
        "n = len(xi)\n",
        "px_tabla = traza3natural(xi,fi)\n",
        "\n",
        "            # resultado\n",
        "print('Polinomios por tramos: ')\n",
        "for tramo in range(1,n,1):\n",
        "    print(' x = ['+str(xi[tramo-1])\n",
        "          +','+str(xi[tramo])+']')\n",
        "    print(str(px_tabla[tramo-1]))\n",
        "\n",
        "            #imagen\n",
        "xtraza = np.array([])\n",
        "ytraza = np.array([])\n",
        "tramo = 1\n",
        "while not(tramo>=n):\n",
        "    a = xi[tramo-1]\n",
        "    b = xi[tramo]\n",
        "    xtramo = np.linspace(a,b,muestras)\n",
        "\n",
        "\n",
        "    pxtramo = px_tabla[tramo-1]\n",
        "    pxt = sym.lambdify('x',pxtramo)\n",
        "    ytramo = pxt(xtramo)\n",
        "\n",
        "    # vectores de trazador en x,y\n",
        "    xtraza = np.concatenate((xtraza,xtramo))\n",
        "    ytraza = np.concatenate((ytraza,ytramo))\n",
        "    tramo = tramo + 1\n",
        "\n"
      ],
      "metadata": {
        "colab": {
          "base_uri": "https://localhost:8080/"
        },
        "id": "ivkLvAp4j2Ck",
        "outputId": "318933bc-7699-494a-aaf6-2fc976575f57"
      },
      "execution_count": 20,
      "outputs": [
        {
          "output_type": "stream",
          "name": "stdout",
          "text": [
            "Polinomios por tramos: \n",
            " x = [0.1,0.2]\n",
            "-146.666666666667*x**3 + 44.0*x**2 + 0.566666666666666*x + 1.1\n",
            " x = [0.2,0.3]\n",
            "283.333333333333*x**3 - 214.0*x**2 + 52.1666666666667*x - 2.34\n",
            " x = [0.3,0.4]\n",
            "-136.666666666667*x**3 + 164.0*x**2 - 61.2333333333333*x + 9.0\n"
          ]
        }
      ]
    },
    {
      "cell_type": "code",
      "source": [
        "# Gráfica\n",
        "plt.plot(xi,fi,'ro', label='puntos')\n",
        "plt.plot(xtraza,ytraza, label='poli'\n",
        "         , color='pink')\n",
        "plt.title('T.C ')\n",
        "plt.xlabel('x_i')\n",
        "plt.ylabel('f(x_i)')\n",
        "plt.legend()\n",
        "plt.show()"
      ],
      "metadata": {
        "colab": {
          "base_uri": "https://localhost:8080/",
          "height": 472
        },
        "id": "wwN5IBCbwqWq",
        "outputId": "0f7125f3-09c7-4aa5-d269-03b0d4149488"
      },
      "execution_count": 21,
      "outputs": [
        {
          "output_type": "display_data",
          "data": {
            "text/plain": [
              "<Figure size 640x480 with 1 Axes>"
            ],
            "image/png": "[encoded data removed]"
          },
          "metadata": {}
        }
      ]
    }
  ]
}