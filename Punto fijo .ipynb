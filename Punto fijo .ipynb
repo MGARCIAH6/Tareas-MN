{
  "nbformat": 4,
  "nbformat_minor": 0,
  "metadata": {
    "colab": {
      "provenance": [],
      "authorship_tag": "ABX9TyNvYE5CdHXmTcNyzSSHvFZ0",
      "include_colab_link": true
    },
    "kernelspec": {
      "name": "python3",
      "display_name": "Python 3"
    },
    "language_info": {
      "name": "python"
    }
  },
  "cells": [
    {
      "cell_type": "markdown",
      "metadata": {
        "id": "view-in-github",
        "colab_type": "text"
      },
      "source": [
        "<a href=\"https://colab.research.google.com/github/MGARCIAH6/Tareas-MN/blob/main/Punto%20fijo%20.ipynb\" target=\"_parent\"><img src=\"https://colab.research.google.com/assets/colab-badge.svg\" alt=\"Open In Colab\"/></a>"
      ]
    },
    {
      "cell_type": "code",
      "execution_count": 20,
      "metadata": {
        "id": "POdUcj53b2-G"
      },
      "outputs": [],
      "source": [
        "from math import *"
      ]
    },
    {
      "cell_type": "code",
      "source": [
        "#Ingreso de la funcion que quiera ser calculada con punto fijo \n",
        "def g(x):\n",
        "  return cos(x)\n",
        "#datos que se manajan para el punto fijo \n",
        "def puntofijo(x0,n,tol):\n",
        "  for k  in range(n):\n",
        "    x1=g(x0)\n",
        "    if  (abs(x1-x0)<tol):\n",
        "      print('x',k+1,'=',x1,'es punto fijo ')\n",
        "      return \n",
        "    x0=x1\n",
        "\n",
        "    print('x',k+1,'=',x1)\n",
        "    #Datos que nosotros queremos obtener del punto fijo \n",
        "puntofijo(4,15,0.0001)"
      ],
      "metadata": {
        "id": "jBJC5SMNc5pK"
      },
      "execution_count": null,
      "outputs": []
    },
    {
      "cell_type": "code",
      "source": [
        "\n",
        "\n",
        "\n"
      ],
      "metadata": {
        "id": "ASfybOXgdw_o"
      },
      "execution_count": null,
      "outputs": []
    }
  ]
}