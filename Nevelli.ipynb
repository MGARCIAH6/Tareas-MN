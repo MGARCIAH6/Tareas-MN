{
  "nbformat": 4,
  "nbformat_minor": 0,
  "metadata": {
    "colab": {
      "provenance": [],
      "authorship_tag": "ABX9TyMuK3fQwpdtydwpqyvC0u+h",
      "include_colab_link": true
    },
    "kernelspec": {
      "name": "python3",
      "display_name": "Python 3"
    },
    "language_info": {
      "name": "python"
    }
  },
  "cells": [
    {
      "cell_type": "markdown",
      "metadata": {
        "id": "view-in-github",
        "colab_type": "text"
      },
      "source": [
        "<a href=\"https://colab.research.google.com/github/MGARCIAH6/Tareas-MN/blob/main/Nevelli.ipynb\" target=\"_parent\"><img src=\"https://colab.research.google.com/assets/colab-badge.svg\" alt=\"Open In Colab\"/></a>"
      ]
    },
    {
      "cell_type": "code",
      "execution_count": null,
      "metadata": {
        "id": "pfJK42TBafeV"
      },
      "outputs": [],
      "source": [
        "from tabulate import tabulate"
      ]
    },
    {
      "cell_type": "code",
      "source": [
        "####valores para x\n",
        "x=1.5\n",
        "\n",
        "x0=1.0\n",
        "x1=1.3\n",
        "x2=1.6\n",
        "x3=1.9\n",
        "x4=2.2\n",
        "#valores evaluados en la funcion\n",
        "fx0=(round(0.7651977,7))\n",
        "fx1=(round(0.6200860,7))\n",
        "fx2=(round( 0.4554022,7))\n",
        "fx3=(round(0.2818186,7))\n",
        "fx4=(round(0.1103623,7))\n",
        "Y1=(fx0*)\n",
        "Y5=(fx0*(x-x1)*(x-x2)*(x-x3)*(x-x4))/((x0-x1)*(x0-x2)*(x0-x3)*(x0-x4))+(fx1*(x-x0)*(x-x2)*(x-x3)*(x-x4))/((x1-x0)*(x1-x2)*(x1-x3)*(x1-x4))+(fx2*(x-x0)*(x-x1)*(x-x3)*(x-x4))/((x2-x0)*(x2-x1)*(x2-x3)*(x2-x4))+(fx3*(x-x0)*(x-x1)*(x-x2)*(x-x4))/((x3-x0)*(x3-x1)*(x3-x2)*(x3-x4))+(fx4*(x-x0)*(x-x1)*(x-x2)*(x-x3))/((x4-x0)*(x4-x1)*(x4-x2)*(x4-x3))\n",
        "\n",
        "\n",
        "                                                       #### Datos de la tabla ###\n",
        "datostabla=[\n",
        "   ['x0',x0,fx0,(round(Y,7))],\n",
        "   ['x1',x1,fx1],\n",
        "   ['x2',x2,fx2],\n",
        "   ['x3',x3,fx3],\n",
        "   ['x4',x4,fx4]\n",
        "]\n",
        "\n",
        "                                                      ### Encabezado de tabla #####\n",
        "enca=[\n",
        "    'x','','f(x)',' '\n",
        "\n",
        "]\n",
        "\n",
        "\n",
        "\n",
        "print(tabulate(datostabla,headers=enca,tablefmt=\"grid\"))"
      ],
      "metadata": {
        "colab": {
          "base_uri": "https://localhost:8080/"
        },
        "id": "_8OW-Kphbv-y",
        "outputId": "369bba81-388c-48cb-da57-8ad73e2314c6"
      },
      "execution_count": null,
      "outputs": [
        {
          "output_type": "stream",
          "name": "stdout",
          "text": [
            "+-----+-----+----------+---------+\n",
            "| x   |     |     f(x) |         |\n",
            "+=====+=====+==========+=========+\n",
            "| x0  | 1   | 0.765198 | 0.51182 |\n",
            "+-----+-----+----------+---------+\n",
            "| x1  | 1.3 | 0.620086 |         |\n",
            "+-----+-----+----------+---------+\n",
            "| x2  | 1.6 | 0.455402 |         |\n",
            "+-----+-----+----------+---------+\n",
            "| x3  | 1.9 | 0.281819 |         |\n",
            "+-----+-----+----------+---------+\n",
            "| x4  | 2.2 | 0.110362 |         |\n",
            "+-----+-----+----------+---------+\n"
          ]
        }
      ]
    }
  ]
}