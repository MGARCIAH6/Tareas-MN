{
  "nbformat": 4,
  "nbformat_minor": 0,
  "metadata": {
    "colab": {
      "provenance": [],
      "authorship_tag": "ABX9TyNVrMi3yB4blmAVQTyaN7ev",
      "include_colab_link": true
    },
    "kernelspec": {
      "name": "python3",
      "display_name": "Python 3"
    },
    "language_info": {
      "name": "python"
    }
  },
  "cells": [
    {
      "cell_type": "markdown",
      "metadata": {
        "id": "view-in-github",
        "colab_type": "text"
      },
      "source": [
        "<a href=\"https://colab.research.google.com/github/MGARCIAH6/Tareas-MN/blob/main/Baristow.ipynb\" target=\"_parent\"><img src=\"https://colab.research.google.com/assets/colab-badge.svg\" alt=\"Open In Colab\"/></a>"
      ]
    },
    {
      "cell_type": "code",
      "source": [
        "#import module\n",
        "from tabulate import tabulate"
      ],
      "metadata": {
        "id": "lqEaKP1bRbcj"
      },
      "execution_count": null,
      "outputs": []
    },
    {
      "cell_type": "code",
      "execution_count": null,
      "metadata": {
        "id": "BUPPDB2E7oCF"
      },
      "outputs": [],
      "source": [
        "\n",
        "a4=int(input('Ingresa el coeficiente de grado 4: '))\n",
        "a3=int(input('Ingresa el coeficiente de grado 3: '))\n",
        "a2=int(input('Ingresa el coeficiente de grado 2: '))\n",
        "a1=int(input('Ingresa el coeficiente de grado 1: '))\n",
        "a0=int(input('Ingresa el coeficiente de grado 0: '))\n",
        "print('Se operará con el polinomio: ',a4,'x^4 +',a3,'x^3 +',a2,'x^2 +',a1,'x',a0)\n",
        "#####   valores iniciales de \" p \" y \" q \" #####\n",
        "p=0\n",
        "q=0\n",
        "##### Igualdad para la primera iteracion y los valores de bo ####\n",
        "b0=a0\n",
        "b1=a1\n",
        "b2=a2\n",
        "R=a1\n",
        "S=a0\n",
        "     ########### primeros valores de \" R \" y \" S \"   #######\n",
        "delp = R/(round(b2,2))\n",
        "delq = S/(round(b2,2))\n",
        "      ############ 2da iteracion valores para bo y b1 ######\n",
        "b10=a3-(delp*a4)\n",
        "b11=a2-(delp*b10)-(delq*a4)\n",
        "\n",
        "R1=R-(delp*b11)-(delq*b10)\n",
        "S1=S-((round(delq,2))*(round(b11,2)))\n",
        "\n",
        "delp1=R1/b11\n",
        "delq1=S1/b11\n",
        "             ######### Nuevos p y q  ( 3er iteración ) #####\n",
        "delp10=delp+delp1\n",
        "delq10=delq+delq1\n",
        "\n",
        "b21=a3-delp10*a4         #### 3ra iteración, valor de b1\n",
        "b22=a2-delp10*b21-delq10*a4    #### y b2\n",
        "\n",
        "R2=R-(round(delp10,2))*(round(b22,2))-(round(delq10,2)*b21)\n",
        "S2=S-delq10*b22\n",
        "\n",
        "delp2=R2/b22\n",
        "delq2=S2/b22\n",
        "\n",
        "######## Nuevos p y q 4ta iteración #####\n",
        "delp11=delp10+delp2\n",
        "delq11=delq10+delq2\n",
        "\n",
        "######   valores para b1 y b2 en la 4 ite #####\n",
        "b31=a3-(delp11*a4)\n",
        "b32=a2-delp11*b31-delq11*a4\n",
        "\n",
        "R3=R-(round(delp11,2))*(round(b32,2))-(round(delq11,3))*(round(b31,2))\n",
        "S3=S-(round(delq11,1))*(round(b32,2))\n",
        "\n",
        "delp12=R3/b32\n",
        "delq12=S3/b32\n",
        "\n",
        "#######  Nuevos p y q para la 5ta ite #######\n",
        "\n",
        "finp=delp11+delp12\n",
        "finq=(round(delq11,1))+delq12\n",
        "\n",
        "    #### valosres de b1 y b2 en la 5ta ite  #####\n",
        "b41=a3-(finp*a4)\n",
        "b42=a2-(finp*b41)-(finq*a4)\n",
        "\n",
        "R4=R-(round(finp,2))*(round(b42,2))-(round(finq,2))*(round(b41,2))\n",
        "S4=S-finq*b42\n",
        "\n",
        "fp=R4/b42\n",
        "fq=S4/b42\n",
        "           ####### Datos de la tabla   ############\n",
        "datostabla= [\n",
        "    ['a0=',a4,\"b0=\",a4,\"b0=\",a4,\"b0=\",a4,\"b0=\",a4,\"b0=\",a4],\n",
        "    [\"a1=\",a3,\"b1=\",a3,\"b1=\",b10,\"b1=\",(round(b21,2)),\"b1=\",(round(b31,2)),\"b1=\",(round(b41,2))],\n",
        "    [\"a2=\",a2,\"b2=\",a2,\"b2=\",(round(b11,2)),\"b2=\",(round(b22,2)),\"b2=\",(round(b32,2)),\"b2=\",(round(b42,2))],\n",
        "    [\"a3=\",a1,\"R=\",R,\"R1=\",(round(R1,2)),\"R2=\",(round(R2,2)),\"R3=\",(round(R3,2)),\"R4=\",(round(R4,2))],\n",
        "    [\"a4=\",a0,\"S=\",(round(S,2)),\"S1=\",(round(S1,2)),\"S2\",(round(S2,2)),\"S3=\",(round(S3,2)),\"S4=\",(round(S4,2))],\n",
        "    [\"Del p= \",delp,\" \",\" \",\"Del p1= \",(round(delp1,2)),\"Del p2=\",(round(delp2,2)),\"Del p3=\",(round(delp12,2)),\"Del p4=\",(round(fp,2)),\" \"],\n",
        "    [\"Del q= \",(round(delq,2)),\" \",\" \",\"Del q1=\",(round(delq1,2)),\"Del q2\",(round(delq2,2)),\"Del q3=\",(round(delq12,2)),\"Del q4=\",(round(fq,2))],\n",
        "]\n",
        "#####  Encabezado de tabla ###\n",
        "enca=[\n",
        "    \"i=0 \",\" \",\" i=1\",delp,(round(delq,2)),\" i=2\",[(round(delp10,2)),(round(delq10,2))],\"  \",\"i=3\",[(round(delp11,2)),(round(delq11,3))],\"i=4 \",[(round(finp,2)),(round(finq,2))],[(round(finp,2)),(round(finq,2))]\n",
        "\n",
        "\n",
        "    ]\n",
        "\n",
        "##### Estructura de la trabla ###\n",
        "\n",
        "print(tabulate(datostabla,headers=enca,tablefmt=\"grid\"))\n"
      ]
    },
    {
      "cell_type": "code",
      "source": [],
      "metadata": {
        "id": "d3Bye2YSzhLi"
      },
      "execution_count": null,
      "outputs": []
    }
  ]
}