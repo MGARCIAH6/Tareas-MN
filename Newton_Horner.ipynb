{
  "nbformat": 4,
  "nbformat_minor": 0,
  "metadata": {
    "colab": {
      "provenance": [],
      "authorship_tag": "ABX9TyNLD2NQGIloAk5Qc47jUycy",
      "include_colab_link": true
    },
    "kernelspec": {
      "name": "python3",
      "display_name": "Python 3"
    },
    "language_info": {
      "name": "python"
    }
  },
  "cells": [
    {
      "cell_type": "markdown",
      "metadata": {
        "id": "view-in-github",
        "colab_type": "text"
      },
      "source": [
        "<a href=\"https://colab.research.google.com/github/MGARCIAH6/Tareas-MN/blob/main/Newton_Horner.ipynb\" target=\"_parent\"><img src=\"https://colab.research.google.com/assets/colab-badge.svg\" alt=\"Open In Colab\"/></a>"
      ]
    },
    {
      "cell_type": "code",
      "execution_count": null,
      "metadata": {
        "id": "r58ABJLZST8Z"
      },
      "outputs": [],
      "source": [
        "def newtonhorner (n,xo,poli):\n",
        "  ite=0\n",
        "  tol=1e-20\n",
        "  e=100\n",
        "  nr=n\n",
        "  listaaux1=poli\n",
        "  listaaux2=poli\n",
        "  j=1\n",
        "  r=n\n",
        "  \n",
        "  for k in range (nr):\n",
        "    listaaux1=listaaux2\n",
        "    listaaux2=[1]*r\n",
        "    listaaux1[0]=poli[0]\n",
        "    listaaux2[0]=poli[0]\n",
        "    while e>tol:\n",
        "      y=listaaux1[0]\n",
        "      z=listaaux1[0]\n",
        "      i=1\n",
        "      while i<r:\n",
        "        y=(xo*y)+listaaux1[i]\n",
        "        listaaux2[j]=y\n",
        "        j+=1\n",
        "        z=(xo*z)+y\n",
        "        i+=1\n",
        "      y=(xo*y)+listaaux1[-1]\n",
        "      xnuevo=xo-(y/z)\n",
        "      e=abs((xnuevo-xo))\n",
        "      xo=xnuevo\n",
        "      ite+=1\n",
        "      j=1\n",
        "    \n",
        "    r-=1\n",
        "    print('La raiz ',k+1,'es:',xo)\n",
        "    print('Las iteraciónes fueron: ',ite)\n",
        "    print('')\n",
        "    \n",
        "    e=100\n",
        "    ite=0\n",
        "    \n",
        "n=int(input('Ingresa el grado del polinomio '))\n",
        "\n",
        "polinomio=[1]*(n+1)\n",
        "\n",
        "i=0\n",
        "while i<(n+1):\n",
        "  print('Ingrese el coeficiente a_',i+1)\n",
        "  polinomio[i]=float(input())\n",
        "  i+=1\n",
        "  \n",
        "x0=complex(input('Ingrese el valos x_0: '))\n",
        "\n",
        "newtonhorner (n,x0,polinomio)"
      ]
    }
  ]
}