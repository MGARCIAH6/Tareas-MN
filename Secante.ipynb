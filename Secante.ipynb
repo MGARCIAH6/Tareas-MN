{
  "nbformat": 4,
  "nbformat_minor": 0,
  "metadata": {
    "colab": {
      "provenance": [],
      "authorship_tag": "ABX9TyN5lAYHFEF6g/GMtRgaLkW2",
      "include_colab_link": true
    },
    "kernelspec": {
      "name": "python3",
      "display_name": "Python 3"
    },
    "language_info": {
      "name": "python"
    }
  },
  "cells": [
    {
      "cell_type": "markdown",
      "metadata": {
        "id": "view-in-github",
        "colab_type": "text"
      },
      "source": [
        "<a href=\"https://colab.research.google.com/github/MGARCIAH6/Tareas-MN/blob/main/Secante.ipynb\" target=\"_parent\"><img src=\"https://colab.research.google.com/assets/colab-badge.svg\" alt=\"Open In Colab\"/></a>"
      ]
    },
    {
      "cell_type": "code",
      "execution_count": 1,
      "metadata": {
        "id": "0HExIxGiMyM7"
      },
      "outputs": [],
      "source": [
        "import numpy as np\n",
        "import scipy.optimize as  optimize "
      ]
    },
    {
      "cell_type": "code",
      "source": [
        "def f(x):\n",
        "  return x**3+4*x**2-10\n",
        "  \n",
        "def secante(f,x0,x1,N=100,emax=.0000001):\n",
        "  for k in range(N):\n",
        "    fp=(f(x1)-f(x0))/(x1-x0)\n",
        "  \n",
        "    x=x1-f(x1)/fp\n",
        "    e=abs((x-x1)/x)\n",
        "    if e < emax:\n",
        "      break\n",
        "    x0=x1\n",
        "    x1=x\n",
        "  print(k,x,f(x),e)\n",
        "  \n",
        "secante(f,0,1.57)"
      ],
      "metadata": {
        "id": "AyVIArhqZ0f-"
      },
      "execution_count": null,
      "outputs": []
    }
  ]
}