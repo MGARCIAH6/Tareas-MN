{
  "nbformat": 4,
  "nbformat_minor": 0,
  "metadata": {
    "colab": {
      "provenance": [],
      "authorship_tag": "ABX9TyPQ3uJGG8DGuoYF/AMl/Xn7",
      "include_colab_link": true
    },
    "kernelspec": {
      "name": "python3",
      "display_name": "Python 3"
    },
    "language_info": {
      "name": "python"
    }
  },
  "cells": [
    {
      "cell_type": "markdown",
      "metadata": {
        "id": "view-in-github",
        "colab_type": "text"
      },
      "source": [
        "<a href=\"https://colab.research.google.com/github/MGARCIAH6/Tareas-MN/blob/main/Epidemia(2_0).ipynb\" target=\"_parent\"><img src=\"https://colab.research.google.com/assets/colab-badge.svg\" alt=\"Open In Colab\"/></a>"
      ]
    },
    {
      "cell_type": "markdown",
      "source": [
        "Marlene García Hernández (Epidemi 2.0)"
      ],
      "metadata": {
        "id": "FPgZXpYKf_v6"
      }
    },
    {
      "cell_type": "code",
      "execution_count": null,
      "metadata": {
        "id": "hfnrWTLjf4oX"
      },
      "outputs": [],
      "source": [
        "import numpy as np\n",
        "import sympy as sym\n",
        "import matplotlib.pyplot as plt"
      ]
    },
    {
      "cell_type": "code",
      "source": [
        "def traza3natural(xi,yi):\n",
        "    n = len(xi)\n",
        "\n",
        "                #H\n",
        "    h = np.zeros(n-1, dtype = float)\n",
        "    for j in range(0,n-1,1):\n",
        "        h[j] = xi[j+1] - xi[j]\n",
        "\n",
        "                     # ecuaciones\n",
        "    A = np.zeros(shape=(n-2,n-2), dtype = float)\n",
        "    B = np.zeros(n-2, dtype = float)\n",
        "    S = np.zeros(n, dtype = float)\n",
        "\n",
        "    A[0,0] = 2*(h[0]+h[1])\n",
        "    A[0,1] = h[1]\n",
        "    B[0] = 6*((yi[2]-yi[1])/h[1] - (yi[1]-yi[0])/h[0])\n",
        "\n",
        "    for i in range(1,n-3,1):\n",
        "        A[i,i-1] = h[i]\n",
        "        A[i,i] = 2*(h[i]+h[i+1])\n",
        "        A[i,i+1] = h[i+1]\n",
        "        factor21 = (yi[i+2]-yi[i+1])/h[i+1]\n",
        "        factor10 = (yi[i+1]-yi[i])/h[i]\n",
        "        B[i] = 6*(factor21 - factor10)\n",
        "\n",
        "    A[n-3,n-4] = h[n-3]\n",
        "    A[n-3,n-3] = 2*(h[n-3]+h[n-2])\n",
        "    factor12 = (yi[n-1]-yi[n-2])/h[n-2]\n",
        "    factor23 = (yi[n-2]-yi[n-3])/h[n-3]\n",
        "    B[n-3] = 6*(factor12 - factor23)\n",
        "\n",
        "                    # simplificacion de ecu\n",
        "    r = np.linalg.solve(A,B)\n",
        "    for j in range(1,n-1,1):\n",
        "        S[j] = r[j-1]\n",
        "    S[0] = 0\n",
        "    S[n-1] = 0\n",
        "\n",
        "                         # coeficientes\n",
        "    a = np.zeros(n-1, dtype = float)\n",
        "    b = np.zeros(n-1, dtype = float)\n",
        "    c = np.zeros(n-1, dtype = float)\n",
        "    d = np.zeros(n-1, dtype = float)\n",
        "    for j in range(0,n-1,1):\n",
        "        a[j] = (S[j+1]-S[j])/(6*h[j])\n",
        "        b[j] = S[j]/2\n",
        "        factor10 = (yi[j+1]-yi[j])/h[j]\n",
        "        c[j] = factor10 - (2*h[j]*S[j]+h[j]*S[j+1])/6\n",
        "        d[j] = yi[j]\n",
        "\n",
        "\n",
        "    x = sym.Symbol('x')\n",
        "    px_tabla = []\n",
        "    for j in range(0,n-1,1):\n",
        "\n",
        "        pxtramo = a[j]*(x-xi[j])**3 + b[j]*(x-xi[j])**2\n",
        "        pxtramo = pxtramo + c[j]*(x-xi[j])+ d[j]\n",
        "\n",
        "        pxtramo = pxtramo.expand()\n",
        "        px_tabla.append(pxtramo)\n",
        "\n",
        "    return(px_tabla)\n",
        "\n",
        "\n",
        "            # datos\n",
        "xi = np.array([0,1,2,3,4,5,6,7,8,9,10,11,12,13,14])\n",
        "fi = np.array([1,3,6,25,73,222,294,258,237,191,125,69,27,11,4])\n",
        "muestras = 10\n",
        "\n",
        "\n",
        "n = len(xi)\n",
        "px_tabla = traza3natural(xi,fi)\n",
        "\n",
        "            # resultado\n",
        "print('Polinomios por tramos: ')\n",
        "for tramo in range(1,n,1):\n",
        "    print(' x = ['+str(xi[tramo-1])\n",
        "          +','+str(xi[tramo])+']')\n",
        "    print(str(px_tabla[tramo-1]))\n",
        "\n",
        "            #imagen\n",
        "xtraza = np.array([])\n",
        "ytraza = np.array([])\n",
        "tramo = 1\n",
        "while not(tramo>=n):\n",
        "    a = xi[tramo-1]\n",
        "    b = xi[tramo]\n",
        "    xtramo = np.linspace(a,b,muestras)\n",
        "\n",
        "\n",
        "    pxtramo = px_tabla[tramo-1]\n",
        "    pxt = sym.lambdify('x',pxtramo)\n",
        "    ytramo = pxt(xtramo)\n",
        "\n",
        "    # vectores de trazador en x,y\n",
        "    xtraza = np.concatenate((xtraza,xtramo))\n",
        "    ytraza = np.concatenate((ytraza,ytramo))\n",
        "    tramo = tramo + 1\n",
        "\n"
      ],
      "metadata": {
        "colab": {
          "base_uri": "https://localhost:8080/"
        },
        "id": "i7S0YfCXgK4Y",
        "outputId": "b5504f14-c5ce-4471-cd0f-9e2b8c09f967"
      },
      "execution_count": null,
      "outputs": [
        {
          "output_type": "stream",
          "name": "stdout",
          "text": [
            "Polinomios por tramos: \n",
            " x = [0,1]\n",
            "-0.907921961194125*x**3 + 2.90792196119412*x + 1.0\n",
            " x = [1,2]\n",
            "5.53960980597062*x**3 - 19.3425953014942*x**2 + 22.2505172626884*x - 5.44753176716475\n",
            " x = [2,3]\n",
            "-6.25051726268837*x**3 + 51.3981671104597*x**2 - 119.23100756122*x + 88.8734847821072\n",
            " x = [3,4]\n",
            "32.4624592447828*x**3 - 297.018621456781*x**2 + 926.019358140503*x - 956.376880919615\n",
            " x = [4,5]\n",
            "-51.599319716443*x**3 + 711.722726077929*x**2 - 3108.94603199834*x + 4423.57697259884\n",
            " x = [5,6]\n",
            "-4.06518037901074*x**3 - 1.28936398355498*x**2 + 456.114418309082*x - 1518.19044458019\n",
            " x = [6,7]\n",
            "36.860041232486*x**3 - 737.943352990496*x**2 + 4876.03835235073*x - 10358.0383126635\n",
            " x = [7,8]\n",
            "-20.3749845509333*x**3 + 463.992188461308*x**2 - 3537.5104378119*x + 9273.57553104932\n",
            " x = [8,9]\n",
            "4.63989697124709*x**3 - 136.36496807102*x**2 + 1265.34681444673*x - 3534.04380830703\n",
            " x = [9,10]\n",
            "6.81539666594491*x**3 - 195.103459827862*x**2 + 1793.9932402583*x - 5119.98308574174\n",
            " x = [10,11]\n",
            "-1.90148363502675*x**3 + 66.4029492012884*x**2 - 821.070850033201*x + 3596.89721522992\n",
            " x = [11,12]\n",
            "4.79053787416209*x**3 - 154.433760601943*x**2 + 1608.13295780235*x - 5310.18341350042\n",
            " x = [12,13]\n",
            "-5.2606678616216*x**3 + 207.409645886269*x**2 - 2733.98792005621*x + 12058.3000979338\n",
            " x = [13,14]\n",
            "-0.74786642767568*x**3 + 31.4103899623786*x**2 - 445.997593045624*x + 2143.67534755461\n"
          ]
        }
      ]
    },
    {
      "cell_type": "code",
      "source": [
        "# Gráfica\n",
        "plt.plot(xi,fi,'ro', label='puntos')\n",
        "plt.plot(xtraza,ytraza, label='poli'\n",
        "         , color='pink')\n",
        "plt.title('T.C ')\n",
        "plt.xlabel('x_i')\n",
        "plt.ylabel('f(x_i)')\n",
        "plt.legend()\n",
        "plt.show()"
      ],
      "metadata": {
        "colab": {
          "base_uri": "https://localhost:8080/",
          "height": 472
        },
        "id": "ZjXE8YT7gNuK",
        "outputId": "eaae4252-9cf9-4970-d07e-64410cbdb6b8"
      },
      "execution_count": null,
      "outputs": [
        {
          "output_type": "display_data",
          "data": {
            "text/plain": [
              "<Figure size 640x480 with 1 Axes>"
            ],
            "image/png": "[encoded data removed]"
          },
          "metadata": {}
        }
      ]
    }
  ]
}