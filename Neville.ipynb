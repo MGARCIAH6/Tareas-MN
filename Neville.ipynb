{
  "nbformat": 4,
  "nbformat_minor": 0,
  "metadata": {
    "colab": {
      "provenance": [],
      "authorship_tag": "ABX9TyOCN4ZgjCvZadsizhpS9EZ1",
      "include_colab_link": true
    },
    "kernelspec": {
      "name": "python3",
      "display_name": "Python 3"
    },
    "language_info": {
      "name": "python"
    }
  },
  "cells": [
    {
      "cell_type": "markdown",
      "metadata": {
        "id": "view-in-github",
        "colab_type": "text"
      },
      "source": [
        "<a href=\"https://colab.research.google.com/github/MGARCIAH6/Tareas-MN/blob/main/Neville.ipynb\" target=\"_parent\"><img src=\"https://colab.research.google.com/assets/colab-badge.svg\" alt=\"Open In Colab\"/></a>"
      ]
    },
    {
      "cell_type": "markdown",
      "source": [
        "Marlene García Hernández."
      ],
      "metadata": {
        "id": "nAPmfHdXfwYJ"
      }
    },
    {
      "cell_type": "code",
      "execution_count": 45,
      "metadata": {
        "id": "pfJK42TBafeV"
      },
      "outputs": [],
      "source": [
        "import matplotlib.pyplot as plt\n",
        "import numpy as np\n",
        "from tabulate import tabulate"
      ]
    },
    {
      "cell_type": "code",
      "source": [
        "                                             #######   valores para x  #########\n",
        "x=1.5\n",
        "x0=1.0\n",
        "x1=1.3\n",
        "x2=1.6\n",
        "x3=1.9\n",
        "x4=2.2\n",
        "                                                    #### valores evaluados en la funcion ####\n",
        "fx0=(round(0.7651977,7))\n",
        "fx1=(round(0.6200860,7))\n",
        "fx2=(round( 0.4554022,7))\n",
        "fx3=(round(0.2818186,7))\n",
        "fx4=(round(0.1103623,7))\n",
        "\n",
        "\n",
        "\n",
        "                                                ####  1er polinomio de grado uno ####\n",
        "Y1=(fx0*(x-x1))/((x0-x1))+(fx1*(x-x0))/((x1-x0))\n",
        "\n",
        "\n",
        "                                                ####  2do polinomio de grado uno ####\n",
        "Y2=(fx1*(x-x2))/((x1-x2))+(fx2*(x-x1))/(x2-x1)\n",
        "                                                 ####  3er polinomio de grado uno ####\n",
        "Y3=(fx2*(x-x3))/((x2-x3))+(fx3*(x-x2))/((x3-x2))\n",
        "                                                 ####  4to polinomio de grado uno ####\n",
        "Y4=(fx4*(x-x3))/((x4-x3))+(fx3*(x-x4))/((x3-x4))\n",
        "                                               ###  1er poli de 2do grado #######\n",
        "\n",
        "Y20=(fx0*(x-x1)*(x-x2))/((x0-x1)*(x0-x2))+(fx1*(x-x0)*(x-x2))/((x1-x0)*(x1-x2))+(fx2*(x-x0)*(x-x1))/((x2-x0)*(x2-x1))\n",
        "                                            ###  2do poli de 2do grado #######\n",
        "\n",
        "Y21=(fx1*(x-x2)*(x-x3))/((x1-x2)*(x1-x3))+(fx2*(x-x1)*(x-x3))/((x2-x1)*(x2-x3))+(fx3*(x-x1)*(x-x2))/((x3-x1)*(x3-x2))\n",
        "                                               ###  3er poli de 2do grado #######\n",
        "\n",
        "Y22=(fx2*(x-x3)*(x-x4))/((x2-x3)*(x2-x4))+(fx3*(x-x2)*(x-x4))/((x3-x2)*(x3-x4))+(fx4*(x-x2)*(x-x3))/((x4-x2)*(x4-x3))\n",
        "                                                    ### 1 er poli de 3er ###\n",
        "\n",
        "Y30=(fx0*(x-x1)*(x-x2)*(x-x3))/((x0-x1)*(x0-x2)*(x0-x3))+(fx1*(x-x0)*(x-x2)*(x-x3))/((x1-x0)*(x1-x2)*(x1-x3))+(fx2*(x-x0)*(x-x1)*(x-x3))/((x2-x0)*(x2-x1)*(x2-x3))+(fx3*(x-x0)*(x-x1)*(x-x2))/((x3-x0)*(x3-x1)*(x3-x2))\n",
        "\n",
        "                                                      ###### 2do poli de 3er grado\n",
        "\n",
        "Y31=(fx1*(x-x2)*(x-x3)*(x-x4))/((x1-x2)*(x1-x3)*(x1-x4))+(fx2*(x-x1)*(x-x3)*(x-x4))/((x2-x1)*(x2-x3)*(x2-x4))+(fx3*(x-x1)*(x-x2)*(x-x4))/((x3-x1)*(x3-x2)*(x3-x4))+(fx4*(x-x1)*(x-x2)*(x-x3))/((x4-x1)*(x4-x2)*(x4-x3))\n",
        "\n",
        "                                                      #####  polinomio de degre(4) #####\n",
        "\n",
        "Y4=(fx0*(x-x1)*(x-x2)*(x-x3)*(x-x4))/((x0-x1)*(x0-x2)*(x0-x3)*(x0-x4))+(fx1*(x-x0)*(x-x2)*(x-x3)*(x-x4))/((x1-x0)*(x1-x2)*(x1-x3)*(x1-x4))+(fx2*(x-x0)*(x-x1)*(x-x3)*(x-x4))/((x2-x0)*(x2-x1)*(x2-x3)*(x2-x4))+(fx3*(x-x0)*(x-x1)*(x-x2)*(x-x4))/((x3-x0)*(x3-x1)*(x3-x2)*(x3-x4))+(fx4*(x-x0)*(x-x1)*(x-x2)*(x-x3))/((x4-x0)*(x4-x1)*(x4-x2)*(x4-x3))\n",
        "\n",
        "\n",
        "                                                       #### Datos de la tabla ###\n",
        "datostabla=[\n",
        "   ['x0',x0,fx0],\n",
        "   ['x1',x1,fx1,(round(Y1,7))],\n",
        "   ['x2',x2,fx2,(round(Y2,7)),(round(Y20,7))],\n",
        "   ['x3',x3,fx3,(round(Y3,7)),(round(Y21,7)),(round(Y30,7))],\n",
        "   ['x4',x4,fx4,(round(Y4,7)),(round(Y22,7)),(round(Y31,7)),(round(Y4,7))]\n",
        "]\n",
        "\n",
        "                                                      ### Encabezado de tabla #####\n",
        "enca=[\n",
        "    'x','','f(x)','Q_1j ','Q_2j ','Q_3j','Q40'\n",
        "\n",
        "]\n",
        "\n",
        "\n",
        "\n",
        "print(tabulate(datostabla,headers=enca,tablefmt=\"grid\"))\n",
        "\n",
        "\n"
      ],
      "metadata": {
        "id": "_8OW-Kphbv-y"
      },
      "execution_count": null,
      "outputs": []
    }
  ]
}